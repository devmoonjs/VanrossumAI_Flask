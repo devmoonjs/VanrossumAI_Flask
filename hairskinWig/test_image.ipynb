{
 "cells": [
  {
   "cell_type": "code",
   "execution_count": 50,
   "id": "b12f74f5",
   "metadata": {},
   "outputs": [],
   "source": [
    "from PIL import Image\n",
    "from inference import Predictor, CELEBRITY_LABELS, ANIMAL_LABELS\n",
    "import cv2\n",
    "\n",
    "def post():\n",
    "    try:\n",
    "        label = 'male'\n",
    "\n",
    "        src = Image.open('./images/src/source.png').convert(\"RGB\")\n",
    "        ref = Image.open('./images/ref/target10.png').convert(\"RGB\")\n",
    "\n",
    "        entity = \"celebrity\"\n",
    "\n",
    "        predictor = Predictor(entity=entity)\n",
    "        predictor.create_interpolation(label, src_image=src, ref_image=ref)\n",
    "\n",
    "        image_path = \"images/res.jpg\"\n",
    "\n",
    "        # OpenCV를 사용하여 이미지를 읽고 화면에 표시\n",
    "        image = cv2.imread(image_path)\n",
    "        if image is not None:\n",
    "            cv2.imshow('Result Image', image)\n",
    "            cv2.waitKey(0)\n",
    "            cv2.destroyAllWindows()\n",
    "        else:\n",
    "            print(\"해당 경로에 이미지가 존재하지 않습니다.\")\n",
    "        \n",
    "    except Exception as e:\n",
    "        message = f\"Exception occurred: {e}\"\n",
    "        print(message)"
   ]
  },
  {
   "cell_type": "code",
   "execution_count": 51,
   "id": "5b0622ac",
   "metadata": {},
   "outputs": [],
   "source": [
    "post()"
   ]
  },
  {
   "cell_type": "code",
   "execution_count": null,
   "id": "e4337ec4",
   "metadata": {},
   "outputs": [],
   "source": []
  }
 ],
 "metadata": {
  "kernelspec": {
   "display_name": "Python 3 (ipykernel)",
   "language": "python",
   "name": "python3"
  },
  "language_info": {
   "codemirror_mode": {
    "name": "ipython",
    "version": 3
   },
   "file_extension": ".py",
   "mimetype": "text/x-python",
   "name": "python",
   "nbconvert_exporter": "python",
   "pygments_lexer": "ipython3",
   "version": "3.9.13"
  }
 },
 "nbformat": 4,
 "nbformat_minor": 5
}
