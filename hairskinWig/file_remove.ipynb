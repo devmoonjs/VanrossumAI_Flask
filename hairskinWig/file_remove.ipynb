{
 "cells": [
  {
   "cell_type": "code",
   "execution_count": 1,
   "id": "a8f7306e",
   "metadata": {},
   "outputs": [
    {
     "name": "stdout",
     "output_type": "stream",
     "text": [
      "supplies_result.txt 파일이 삭제되었습니다.\n"
     ]
    }
   ],
   "source": [
    "import os\n",
    "\n",
    "def delete_txt_file(file_path, file_name):\n",
    "    target_file = os.path.join(file_path, file_name)\n",
    "\n",
    "    # 파일이 존재하는지 확인하고 삭제\n",
    "    if os.path.exists(target_file):\n",
    "        os.remove(target_file)\n",
    "        print(f\"{file_name} 파일이 삭제되었습니다.\")\n",
    "    else:\n",
    "        print(f\"{file_name} 파일을 찾을 수 없습니다.\")\n",
    "\n",
    "# 파일을 삭제할 경로와 파일 이름을 지정해줘야 해.\n",
    "path = './'\n",
    "name = 'supplies_result.txt'\n",
    "\n",
    "delete_txt_file(path, name)\n"
   ]
  },
  {
   "cell_type": "code",
   "execution_count": null,
   "id": "6a924432",
   "metadata": {},
   "outputs": [],
   "source": []
  }
 ],
 "metadata": {
  "kernelspec": {
   "display_name": "Python 3 (ipykernel)",
   "language": "python",
   "name": "python3"
  },
  "language_info": {
   "codemirror_mode": {
    "name": "ipython",
    "version": 3
   },
   "file_extension": ".py",
   "mimetype": "text/x-python",
   "name": "python",
   "nbconvert_exporter": "python",
   "pygments_lexer": "ipython3",
   "version": "3.9.13"
  }
 },
 "nbformat": 4,
 "nbformat_minor": 5
}
